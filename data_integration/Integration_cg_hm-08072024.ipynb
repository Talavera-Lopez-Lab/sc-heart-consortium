{
 "cells": [
  {
   "cell_type": "markdown",
   "metadata": {},
   "source": [
    "# Notebook to integrate anndata from 'CellxGene' and 'HubMap'\n",
    "\n",
    "**Developed by** :Srivalli Kolla\n",
    "\n",
    "**Created on** : 08 July, 2024\n",
    "\n",
    "**Last modified** : 08 July, 2024\n",
    "\n",
    "**Würzburg Institute for Systems Immunology & Julius-Maximilian-Universität Würzburg**"
   ]
  },
  {
   "cell_type": "markdown",
   "metadata": {},
   "source": [
    "# Import packages"
   ]
  },
  {
   "cell_type": "code",
   "execution_count": null,
   "metadata": {},
   "outputs": [],
   "source": [
    "import anndata as ad\n",
    "import scanpy as sc\n",
    "import bbknn\n",
    "import scib\n",
    "import time\n",
    "import os \n",
    "import glob"
   ]
  },
  {
   "cell_type": "markdown",
   "metadata": {},
   "source": [
    "# Setting up environment"
   ]
  },
  {
   "cell_type": "code",
   "execution_count": null,
   "metadata": {},
   "outputs": [],
   "source": [
    "sc.settings.verbosity = 3\n",
    "sc.logging.print_versions()\n",
    "sc.settings.set_figure_params(dpi = 300, color_map = 'magma', dpi_save = 300, vector_friendly = True, format = 'svg')\n",
    "timestamp = time.strftime(\"%d_%m_%Y\")"
   ]
  },
  {
   "cell_type": "markdown",
   "metadata": {},
   "source": [
    "# Data loading and Integration"
   ]
  },
  {
   "cell_type": "markdown",
   "metadata": {},
   "source": [
    "## Data loading"
   ]
  },
  {
   "cell_type": "code",
   "execution_count": null,
   "metadata": {},
   "outputs": [],
   "source": [
    "adata_cellxgene = sc.read_h5ad('../cellxgene/data/cg_heart_all.h5ad')\n",
    "adata_cellxgene"
   ]
  },
  {
   "cell_type": "markdown",
   "metadata": {},
   "source": [
    "##### Steps\n",
    "1. Define paths for single cell and single nuclei of hubmap\n",
    "2. Load the HuBMAP data\n",
    "3. Create a for loop which creates a new obs 'suspension_type'\n",
    "4. Create an other obs 'cell_id' if not present\n",
    "5. Data concatenation seperately for single cell and single nuclei"
   ]
  },
  {
   "cell_type": "code",
   "execution_count": null,
   "metadata": {},
   "outputs": [],
   "source": [
    "sc_path = '../hubmap/sc/'\n",
    "sn_path = '../hubmap/sn/'\n",
    "\n",
    "def load_and_annotate_datasets(path, suspension_type):\n",
    "    file_pattern = os.path.join(path, '*.h5ad')\n",
    "    hubmap_files = glob.glob(file_pattern)\n",
    "    datasets = []\n",
    "    for file in hubmap_files:\n",
    "        adata = ad.read_h5ad(file)\n",
    "        adata.obs['suspension_type'] = suspension_type\n",
    "\n",
    "        if 'cell_id' not in adata.obs.columns:\n",
    "            adata.obs['cell_id'] = None\n",
    "\n",
    "        datasets.append(adata)\n",
    "    return datasets\n",
    "\n",
    "sc_datasets = load_and_annotate_datasets(sc_path, 'cell')\n",
    "sn_datasets = load_and_annotate_datasets(sn_path, 'nucleus')\n",
    "\n",
    "sc_combined = ad.concat(sc_datasets, merge = 'same')\n",
    "sn_combined = ad.concat(sn_datasets, merge = 'same') \n",
    "\n",
    "print(sc_combined)\n",
    "print(sn_combined)"
   ]
  },
  {
   "cell_type": "code",
   "execution_count": null,
   "metadata": {},
   "outputs": [],
   "source": [
    "adata_hubmap_combined = ad.concat([sc_combined, sn_combined], merge = 'same')\n",
    "adata_hubmap_combined"
   ]
  },
  {
   "cell_type": "code",
   "execution_count": null,
   "metadata": {},
   "outputs": [],
   "source": [
    "adata_hubmap_combined.var['feature_id'] = adata_hubmap_combined.var_names\n",
    "adata_hubmap_combined.var"
   ]
  },
  {
   "cell_type": "code",
   "execution_count": null,
   "metadata": {},
   "outputs": [],
   "source": [
    "adata_cellxgene.var.set_index('feature_id', inplace= True, drop= False)\n",
    "adata_cellxgene.var"
   ]
  },
  {
   "cell_type": "code",
   "execution_count": null,
   "metadata": {},
   "outputs": [],
   "source": [
    "adata_cellxgene"
   ]
  },
  {
   "cell_type": "code",
   "execution_count": null,
   "metadata": {},
   "outputs": [],
   "source": [
    "adata_hubmap_combined"
   ]
  },
  {
   "cell_type": "markdown",
   "metadata": {},
   "source": [
    "## Data Preparation for integration"
   ]
  },
  {
   "cell_type": "markdown",
   "metadata": {},
   "source": [
    "#### Steps\n",
    "\n",
    "1. Mapping for columns that have the same information but different names\n",
    "2. Rename obs and var as in hubmap data to make it same with cellxgene\n",
    "3. Define function to make unique obs and var\n",
    "4. Make the obs and var unique"
   ]
  },
  {
   "cell_type": "code",
   "execution_count": null,
   "metadata": {},
   "outputs": [],
   "source": [
    "obs_rename_mapping = {\n",
    "    'cell_id': 'cell_type' \n",
    "}\n",
    "\n",
    "var_rename_mapping = {\n",
    "    'feature_id': 'feature_id',\n",
    "    'hugo_symbol': 'feature_name'\n",
    "}\n",
    "\n",
    "adata_hubmap_combined.obs.rename(columns= obs_rename_mapping, inplace= True)\n",
    "adata_hubmap_combined.var.rename(columns= var_rename_mapping, inplace= True)\n",
    "\n",
    "def make_unique(column_names):\n",
    "    seen = set()\n",
    "    for idx, col in enumerate(column_names):\n",
    "        while col in seen:\n",
    "            col += '_dup'\n",
    "        seen.add(col)\n",
    "        column_names[idx] = col\n",
    "    return column_names\n",
    "\n",
    "\n",
    "adata_cellxgene.obs.columns = make_unique(list(adata_cellxgene.obs.columns))\n",
    "adata_hubmap_combined.obs.columns = make_unique(list(adata_hubmap_combined.obs.columns))\n",
    "adata_cellxgene.var.columns = make_unique(list(adata_cellxgene.var.columns))\n",
    "adata_hubmap_combined.var.columns = make_unique(list(adata_hubmap_combined.var.columns))\n",
    "\n",
    "print(adata_cellxgene)\n",
    "print(adata_hubmap_combined)"
   ]
  },
  {
   "cell_type": "code",
   "execution_count": null,
   "metadata": {},
   "outputs": [],
   "source": [
    "adata_hubmap_combined.write_h5ad(f'../hubmap/integrated_hubmap-{timestamp}.h5ad')"
   ]
  },
  {
   "cell_type": "code",
   "execution_count": null,
   "metadata": {},
   "outputs": [],
   "source": [
    "adata_hubmap_combined = sc.read_h5ad('../hubmap/integrated_hubmap-08_07_2024.h5ad')\n",
    "adata_hubmap_combined"
   ]
  },
  {
   "cell_type": "code",
   "execution_count": null,
   "metadata": {},
   "outputs": [],
   "source": [
    "adata_hubmap_combined.obs_names_make_unique()\n",
    "adata_hubmap_combined"
   ]
  },
  {
   "cell_type": "markdown",
   "metadata": {},
   "source": [
    "## Data integration"
   ]
  },
  {
   "cell_type": "code",
   "execution_count": null,
   "metadata": {},
   "outputs": [],
   "source": [
    "datasets = [adata_cellxgene, adata_hubmap_combined]\n",
    "adata_combined = ad.concat(datasets, label='database', keys=['cellxgene', 'hubmap'], merge = 'same', join= 'outer')\n",
    "adata_combined"
   ]
  },
  {
   "cell_type": "code",
   "execution_count": null,
   "metadata": {},
   "outputs": [],
   "source": [
    "adata_combined.write_h5ad(f'integrated_cg_hm{timestamp}.h5ad')"
   ]
  },
  {
   "cell_type": "code",
   "execution_count": null,
   "metadata": {},
   "outputs": [],
   "source": [
    "adata_combined = sc.read_h5ad('../data_integration/integrated_cg_hm08_07_2024.h5ad')\n"
   ]
  },
  {
   "cell_type": "code",
   "execution_count": null,
   "metadata": {},
   "outputs": [],
   "source": [
    "adata_combined"
   ]
  },
  {
   "cell_type": "markdown",
   "metadata": {},
   "source": [
    "# Data preprocessing"
   ]
  },
  {
   "cell_type": "markdown",
   "metadata": {},
   "source": [
    "## Filtration"
   ]
  },
  {
   "cell_type": "code",
   "execution_count": null,
   "metadata": {},
   "outputs": [],
   "source": [
    "sc.pp.filter_cells(adata_combined, min_genes=200)\n",
    "sc.pp.filter_genes(adata_combined, min_cells=3)"
   ]
  },
  {
   "cell_type": "markdown",
   "metadata": {},
   "source": [
    "## Normalization"
   ]
  },
  {
   "cell_type": "code",
   "execution_count": null,
   "metadata": {},
   "outputs": [],
   "source": [
    "sc.pp.normalize_total(adata_combined, target_sum=1e4)\n",
    "sc.pp.log1p(adata_combined)"
   ]
  },
  {
   "cell_type": "markdown",
   "metadata": {},
   "source": [
    "## Highly variable genes selection"
   ]
  },
  {
   "cell_type": "code",
   "execution_count": null,
   "metadata": {},
   "outputs": [],
   "source": [
    "sc.pp.highly_variable_genes(adata_combined, n_top_genes=10000)\n",
    "adata_combined = adata_combined[:, adata_combined.var['highly_variable']]\n",
    "adata_combined"
   ]
  },
  {
   "cell_type": "markdown",
   "metadata": {},
   "source": [
    "## Dimensionality reduction"
   ]
  },
  {
   "cell_type": "code",
   "execution_count": null,
   "metadata": {},
   "outputs": [],
   "source": [
    "sc.pp.scale(adata_combined, max_value=10)\n",
    "sc.tl.pca(adata_combined, svd_solver='arpack')"
   ]
  },
  {
   "cell_type": "markdown",
   "metadata": {},
   "source": [
    "# Data visualization"
   ]
  },
  {
   "cell_type": "code",
   "execution_count": null,
   "metadata": {},
   "outputs": [],
   "source": [
    "sc.pp.neighbors(adata_combined)\n",
    "sc.tl.umap(adata_combined)\n",
    "sc.pl.umap(adata_combined, frameon = False, color = ['cell_type', 'database','suspension_type'], save = f': Before batch correction:{timestamp}.svg', title = 'Before batch correction')"
   ]
  },
  {
   "cell_type": "markdown",
   "metadata": {},
   "source": [
    "## Batch correction"
   ]
  },
  {
   "cell_type": "code",
   "execution_count": null,
   "metadata": {},
   "outputs": [],
   "source": [
    "filtered_data = bbknn.bbknn(adata_combined, batch_key='database',approx = True, copy = True)\n",
    "filtered_data"
   ]
  },
  {
   "cell_type": "code",
   "execution_count": null,
   "metadata": {},
   "outputs": [],
   "source": [
    "sc.tl.umap(filtered_data)\n",
    "sc.pl.umap(filtered_data, color = ['sample_id', 'cell_type', 'database', 'disease', 'development_stage', 'tissue'], save = f': After batch correction:{timestamp}.svg', title = 'After batch correction')"
   ]
  },
  {
   "cell_type": "markdown",
   "metadata": {},
   "source": [
    "# Data Storage"
   ]
  },
  {
   "cell_type": "code",
   "execution_count": null,
   "metadata": {},
   "outputs": [],
   "source": [
    "filtered_data.write('./data/integrated_cg_hubmap_filtered{timestamp}.h5ad')"
   ]
  }
 ],
 "metadata": {
  "kernelspec": {
   "display_name": "scanpy",
   "language": "python",
   "name": "python3"
  },
  "language_info": {
   "codemirror_mode": {
    "name": "ipython",
    "version": 3
   },
   "file_extension": ".py",
   "mimetype": "text/x-python",
   "name": "python",
   "nbconvert_exporter": "python",
   "pygments_lexer": "ipython3",
   "version": "3.12.4"
  }
 },
 "nbformat": 4,
 "nbformat_minor": 2
}
